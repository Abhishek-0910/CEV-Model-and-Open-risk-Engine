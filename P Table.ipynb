{
 "cells": [
  {
   "cell_type": "code",
   "execution_count": 1,
   "metadata": {},
   "outputs": [],
   "source": [
    "import numpy as np\n",
    "from pandas_datareader import data as wb\n",
    "import math as m\n",
    "import matplotlib.pyplot as plt\n",
    "from scipy.stats import norm\n",
    "import pyfeng as pf"
   ]
  },
  {
   "cell_type": "code",
   "execution_count": 2,
   "metadata": {},
   "outputs": [],
   "source": [
    " PG = wb.DataReader(name = 'PG',data_source = 'yahoo',start = '2021-1-1',end = '2021-12-31')"
   ]
  },
  {
   "cell_type": "code",
   "execution_count": 3,
   "metadata": {},
   "outputs": [
    {
     "data": {
      "text/html": [
       "<div>\n",
       "<style scoped>\n",
       "    .dataframe tbody tr th:only-of-type {\n",
       "        vertical-align: middle;\n",
       "    }\n",
       "\n",
       "    .dataframe tbody tr th {\n",
       "        vertical-align: top;\n",
       "    }\n",
       "\n",
       "    .dataframe thead th {\n",
       "        text-align: right;\n",
       "    }\n",
       "</style>\n",
       "<table border=\"1\" class=\"dataframe\">\n",
       "  <thead>\n",
       "    <tr style=\"text-align: right;\">\n",
       "      <th></th>\n",
       "      <th>High</th>\n",
       "      <th>Low</th>\n",
       "      <th>Open</th>\n",
       "      <th>Close</th>\n",
       "      <th>Volume</th>\n",
       "      <th>Adj Close</th>\n",
       "    </tr>\n",
       "    <tr>\n",
       "      <th>Date</th>\n",
       "      <th></th>\n",
       "      <th></th>\n",
       "      <th></th>\n",
       "      <th></th>\n",
       "      <th></th>\n",
       "      <th></th>\n",
       "    </tr>\n",
       "  </thead>\n",
       "  <tbody>\n",
       "    <tr>\n",
       "      <th>2021-01-04</th>\n",
       "      <td>139.860001</td>\n",
       "      <td>136.350006</td>\n",
       "      <td>139.660004</td>\n",
       "      <td>137.820007</td>\n",
       "      <td>8330900.0</td>\n",
       "      <td>132.112946</td>\n",
       "    </tr>\n",
       "    <tr>\n",
       "      <th>2021-01-05</th>\n",
       "      <td>138.919998</td>\n",
       "      <td>136.270004</td>\n",
       "      <td>137.990005</td>\n",
       "      <td>138.699997</td>\n",
       "      <td>6856400.0</td>\n",
       "      <td>132.956512</td>\n",
       "    </tr>\n",
       "    <tr>\n",
       "      <th>2021-01-06</th>\n",
       "      <td>141.039993</td>\n",
       "      <td>138.600006</td>\n",
       "      <td>138.770004</td>\n",
       "      <td>140.160004</td>\n",
       "      <td>10578000.0</td>\n",
       "      <td>134.356033</td>\n",
       "    </tr>\n",
       "    <tr>\n",
       "      <th>2021-01-07</th>\n",
       "      <td>140.130005</td>\n",
       "      <td>138.039993</td>\n",
       "      <td>139.750000</td>\n",
       "      <td>138.850006</td>\n",
       "      <td>7355400.0</td>\n",
       "      <td>133.100281</td>\n",
       "    </tr>\n",
       "    <tr>\n",
       "      <th>2021-01-08</th>\n",
       "      <td>139.059998</td>\n",
       "      <td>137.000000</td>\n",
       "      <td>138.470001</td>\n",
       "      <td>138.789993</td>\n",
       "      <td>7448500.0</td>\n",
       "      <td>133.042755</td>\n",
       "    </tr>\n",
       "  </tbody>\n",
       "</table>\n",
       "</div>"
      ],
      "text/plain": [
       "                  High         Low        Open       Close      Volume  \\\n",
       "Date                                                                     \n",
       "2021-01-04  139.860001  136.350006  139.660004  137.820007   8330900.0   \n",
       "2021-01-05  138.919998  136.270004  137.990005  138.699997   6856400.0   \n",
       "2021-01-06  141.039993  138.600006  138.770004  140.160004  10578000.0   \n",
       "2021-01-07  140.130005  138.039993  139.750000  138.850006   7355400.0   \n",
       "2021-01-08  139.059998  137.000000  138.470001  138.789993   7448500.0   \n",
       "\n",
       "             Adj Close  \n",
       "Date                    \n",
       "2021-01-04  132.112946  \n",
       "2021-01-05  132.956512  \n",
       "2021-01-06  134.356033  \n",
       "2021-01-07  133.100281  \n",
       "2021-01-08  133.042755  "
      ]
     },
     "execution_count": 3,
     "metadata": {},
     "output_type": "execute_result"
    }
   ],
   "source": [
    "PG.head()"
   ]
  },
  {
   "cell_type": "markdown",
   "metadata": {},
   "source": [
    "# Implied Volatility"
   ]
  },
  {
   "cell_type": "code",
   "execution_count": 4,
   "metadata": {},
   "outputs": [],
   "source": [
    "def imps_sig(S, K, T, C, r, sigma):\n",
    "    \n",
    "    #S: spot price\n",
    "    #K: strike price\n",
    "    #T: time to maturity\n",
    "    #C: Call value\n",
    "    #r: interest rate\n",
    "    #sigma: volatility of underlying asset\n",
    "    \n",
    "    d1 = (np.log(S / K) + (r - 0.5 * sigma ** 2) * T) / (sigma * np.sqrt(T))\n",
    "    d2 = (np.log(S / K) + (r - 0.5 * sigma ** 2) * T) / (sigma * np.sqrt(T))\n",
    "    \n",
    "    fx = S * norm.cdf(d1, 0.0, 1.0) - K * np.exp(-r * T) * norm.cdf(d2, 0.0, 1.0) - C\n",
    "    \n",
    "    vega = (1 / np.sqrt(2 * np.pi)) * S * np.sqrt(T) * np.exp(-(norm.cdf(d1, 0.0, 1.0) ** 2) * 0.5)\n",
    "    \n",
    "    tolerance = 0.000001\n",
    "    x0 = sigma\n",
    "    xnew  = x0\n",
    "    xold = x0 - 1\n",
    "        \n",
    "    while abs(xnew - xold) > tolerance:\n",
    "    \n",
    "        xold = xnew\n",
    "        xnew = (xnew - fx - C) / vega\n",
    "        \n",
    "        return abs(xnew)"
   ]
  },
  {
   "cell_type": "code",
   "execution_count": 5,
   "metadata": {},
   "outputs": [
    {
     "data": {
      "text/plain": [
       "0.671115789259015"
      ]
     },
     "execution_count": 5,
     "metadata": {},
     "output_type": "execute_result"
    }
   ],
   "source": [
    "imps_sig(25, 20, 1, 7, 0.05, 0.25)"
   ]
  },
  {
   "cell_type": "code",
   "execution_count": 6,
   "metadata": {},
   "outputs": [],
   "source": [
    "# Real World P"
   ]
  },
  {
   "cell_type": "code",
   "execution_count": 7,
   "metadata": {},
   "outputs": [
    {
     "data": {
      "text/plain": [
       "0.5697"
      ]
     },
     "execution_count": 7,
     "metadata": {},
     "output_type": "execute_result"
    }
   ],
   "source": [
    "PG['Indicator'] = PG['Adj Close']-PG['Adj Close'].shift(1)\n",
    "C = PG['Indicator']\n",
    "Up_mov = C[C>0].count()\n",
    "P1 = Up_mov/PG['Indicator'].count()\n",
    "P1 = round(P1,4) \n",
    "Q = 1-P1\n",
    "P1"
   ]
  },
  {
   "cell_type": "markdown",
   "metadata": {},
   "source": [
    "# Historical Volatility"
   ]
  },
  {
   "cell_type": "code",
   "execution_count": 8,
   "metadata": {},
   "outputs": [
    {
     "data": {
      "text/plain": [
       "0.14421028651939294"
      ]
     },
     "execution_count": 8,
     "metadata": {},
     "output_type": "execute_result"
    }
   ],
   "source": [
    "PG['log returns'] = np.log(PG['Adj Close']/PG['Adj Close'].shift())\n",
    "sigma = PG['log returns'].std()*252**0.5\n",
    "sigma\n"
   ]
  },
  {
   "cell_type": "markdown",
   "metadata": {},
   "source": [
    "# Moment Matching\n",
    "\n",
    "2.3 % treasury bill rate for 1 year (USA Govt.)"
   ]
  },
  {
   "cell_type": "code",
   "execution_count": 9,
   "metadata": {},
   "outputs": [
    {
     "data": {
      "text/plain": [
       "0.8228426115560851"
      ]
     },
     "execution_count": 9,
     "metadata": {},
     "output_type": "execute_result"
    }
   ],
   "source": [
    "# P with the Historical volatility\n",
    "E=10\n",
    "S0=20\n",
    "r=.233\n",
    "sig=sigma\n",
    "T=1\n",
    "M=20\n",
    "dt = T/M\n",
    "A= 0.5 * (m.exp(r + sig**2)*dt + m.exp(r*dt))\n",
    "u = A + m.sqrt(A**(2 -1))\n",
    "d = A - m.sqrt(A**(2 -1))\n",
    "P2 = (m.exp(r* dt) - d)/(u-d)\n",
    "P2"
   ]
  },
  {
   "cell_type": "code",
   "execution_count": 10,
   "metadata": {},
   "outputs": [
    {
     "data": {
      "text/plain": [
       "0.8061750800160079"
      ]
     },
     "execution_count": 10,
     "metadata": {},
     "output_type": "execute_result"
    }
   ],
   "source": [
    "# P with the Implied volatility\n",
    "E=10\n",
    "S0=20\n",
    "r=.233\n",
    "sig=imps_sig(25, 20, 1, 7, 0.05, 0.25)\n",
    "T=1\n",
    "M=20\n",
    "dt = T/M\n",
    "A= 0.5 * (m.exp(r + sig**2)*dt + m.exp(r*dt))\n",
    "u = A + m.sqrt(A**(2 -1))\n",
    "d = A - m.sqrt(A**(2 -1))\n",
    "P3 = (m.exp(r* dt) - d)/(u-d)\n",
    "P3"
   ]
  },
  {
   "cell_type": "markdown",
   "metadata": {},
   "source": [
    "#Cox Ross Robenstein"
   ]
  },
  {
   "cell_type": "code",
   "execution_count": 11,
   "metadata": {},
   "outputs": [
    {
     "data": {
      "text/plain": [
       "0.6736042586621348"
      ]
     },
     "execution_count": 11,
     "metadata": {},
     "output_type": "execute_result"
    }
   ],
   "source": [
    "# P with the Historical volatility\n",
    "u = m.exp(sigma * dt**0.5)\n",
    "d = m.exp(-(sigma * dt**0.5))\n",
    "\n",
    "P4 = (m.exp(r* dt) - d)/(u-d)\n",
    "P4\n"
   ]
  },
  {
   "cell_type": "code",
   "execution_count": 12,
   "metadata": {},
   "outputs": [],
   "source": [
    "# P with the Implied volatility"
   ]
  },
  {
   "cell_type": "code",
   "execution_count": 13,
   "metadata": {},
   "outputs": [
    {
     "data": {
      "text/plain": [
       "0.5014508029154304"
      ]
     },
     "execution_count": 13,
     "metadata": {},
     "output_type": "execute_result"
    }
   ],
   "source": [
    "sig  = imps_sig(25, 20, 1, 7, 0.05, 0.25)\n",
    "u = m.exp(sig * dt**0.5)\n",
    "d = m.exp(-(sig * dt**0.5))\n",
    "\n",
    "P5 = (m.exp(r* dt) - d)/(u-d)\n",
    "P5\n"
   ]
  },
  {
   "cell_type": "code",
   "execution_count": 18,
   "metadata": {},
   "outputs": [
    {
     "name": "stdout",
     "output_type": "stream",
     "text": [
      "[0.5697, 0.8228426115560851, 0.8061750800160079, 0.6736042586621348, 0.5014508029154304]\n"
     ]
    }
   ],
   "source": [
    "Abhi = []\n",
    "Sharma = [1,2,3,4,5]\n",
    "Abhi.extend([P1,P2,P3,P4,P5])\n",
    "print(Abhi)"
   ]
  },
  {
   "cell_type": "code",
   "execution_count": 24,
   "metadata": {},
   "outputs": [
    {
     "data": {
      "text/plain": [
       "<matplotlib.collections.PathCollection at 0x16703a9be50>"
      ]
     },
     "execution_count": 24,
     "metadata": {},
     "output_type": "execute_result"
    },
    {
     "data": {
      "image/png": "[encoded data removed]",
      "text/plain": [
       "<Figure size 432x288 with 1 Axes>"
      ]
     },
     "metadata": {
      "needs_background": "light"
     },
     "output_type": "display_data"
    }
   ],
   "source": [
    "plt.scatter(Abhi,Sharma)\n"
   ]
  }
 ],
 "metadata": {
  "kernelspec": {
   "display_name": "Python 3",
   "language": "python",
   "name": "python3"
  },
  "language_info": {
   "codemirror_mode": {
    "name": "ipython",
    "version": 3
   },
   "file_extension": ".py",
   "mimetype": "text/x-python",
   "name": "python",
   "nbconvert_exporter": "python",
   "pygments_lexer": "ipython3",
   "version": "3.8.3"
  }
 },
 "nbformat": 4,
 "nbformat_minor": 4
}
